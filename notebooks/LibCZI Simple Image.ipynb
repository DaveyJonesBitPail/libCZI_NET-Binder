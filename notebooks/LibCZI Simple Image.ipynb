{
 "cells": [
  {
   "cell_type": "markdown",
   "id": "85c8455e-ce05-4d6d-a1d2-78deae785d72",
   "metadata": {},
   "source": [
    "# Initialize our Environment and helper functions"
   ]
  },
  {
   "cell_type": "code",
   "execution_count": null,
   "id": "b27f3cd5-45e2-4401-a39f-101358528a81",
   "metadata": {},
   "outputs": [],
   "source": [
    "#!import ./ImageHelpers.ipynb"
   ]
  },
  {
   "cell_type": "markdown",
   "id": "bf2d2a7f-7430-41a6-9441-f59d8faf9a88",
   "metadata": {},
   "source": [
    "## Verify Our C-API Version"
   ]
  },
  {
   "cell_type": "code",
   "execution_count": null,
   "id": "d15af12f-14c3-40e9-9218-9bd4498005db",
   "metadata": {},
   "outputs": [],
   "source": [
    "Zeiss.Micro.LibCzi.Net.Interface.Factory.GetVersionInfo()"
   ]
  },
  {
   "cell_type": "markdown",
   "id": "1bfc4440-24f0-487a-8b06-87b962d61716",
   "metadata": {},
   "source": [
    "#### Load a sample image by creating a file stream and a reader that will interact with it."
   ]
  },
  {
   "cell_type": "code",
   "execution_count": null,
   "id": "8853ff0c-08fb-4029-aeac-ed99bbd17535",
   "metadata": {},
   "outputs": [],
   "source": [
    "var inputStream = Zeiss.Micro.LibCzi.Net.Interface.Factory.CreateInputStreamFromFile(@\"D:\\tmp\\comp\\15.czi\");\n",
    "var cziReader = Zeiss.Micro.LibCzi.Net.Interface.Factory.CreateReader();\n",
    "cziReader.Open(inputStream);"
   ]
  },
  {
   "cell_type": "markdown",
   "id": "2602426e-4ebe-4f36-af2d-7d81e4c92541",
   "metadata": {},
   "source": [
    "##### Get Metadata"
   ]
  },
  {
   "cell_type": "code",
   "execution_count": null,
   "id": "1b9ea4ac-db13-48df-91f2-d40267168008",
   "metadata": {},
   "outputs": [],
   "source": [
    "var MDs = cziReader.GetMetadataSegment();\n",
    "var stats = cziReader.GetSimpleStatistics();\n",
    "var docInfo = MDs.GetCziDocumentInfo();\n",
    "var displaySettings = docInfo.GetDisplaySettings();"
   ]
  },
  {
   "cell_type": "markdown",
   "id": "f04aff3a-ae5e-4321-8ae2-a26f8044de7b",
   "metadata": {},
   "source": [
    "#### Grab the entire Image at T = 0"
   ]
  },
  {
   "cell_type": "code",
   "execution_count": null,
   "id": "8eec21cb-498e-481a-9151-5e2fbcb01e3a",
   "metadata": {},
   "outputs": [],
   "source": [
    "var roi = new Zeiss.Micro.LibCzi.Net.Interface.IntRect(\n",
    "    stats.BoundingBox.X,\n",
    "    stats.BoundingBox.Y,\n",
    "    stats.BoundingBox.Width,\n",
    "    stats.BoundingBox.Height\n",
    ");\n",
    "\n",
    "var accessor = cziReader.CreateSingleChannelTileAccessor();\n",
    "\n",
    "List<Zeiss.Micro.LibCzi.Net.Interface.DimensionAndValue> dimAndVal = [new(Zeiss.Micro.LibCzi.Net.Interface.DimensionIndex.T, 0)];\n",
    "var coord = new Zeiss.Micro.LibCzi.Net.Interface.Coordinate(dimAndVal);\n",
    "var testImage = accessor.Get(coord, roi, 1f, Zeiss.Micro.LibCzi.Net.Interface.AccessorOptions.Default);"
   ]
  },
  {
   "cell_type": "code",
   "execution_count": null,
   "id": "312c61f8-087c-4397-882e-6af55225c40d",
   "metadata": {},
   "outputs": [],
   "source": [
    "DisplayIBitmap(testImage);"
   ]
  }
 ],
 "metadata": {
  "kernelspec": {
   "display_name": "Python 3 (ipykernel)",
   "language": "python",
   "name": "python3"
  },
  "language_info": {
   "codemirror_mode": {
    "name": "ipython",
    "version": 3
   },
   "file_extension": ".py",
   "mimetype": "text/x-python",
   "name": "python",
   "nbconvert_exporter": "python",
   "pygments_lexer": "ipython3",
   "version": "3.11.9"
  }
 },
 "nbformat": 4,
 "nbformat_minor": 5
}
